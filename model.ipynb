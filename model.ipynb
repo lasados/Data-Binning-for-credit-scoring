{
 "cells": [
  {
   "cell_type": "code",
   "execution_count": 1,
   "metadata": {},
   "outputs": [],
   "source": [
    "import pandas as pd\n",
    "import numpy as np\n",
    "\n",
    "from sklearn.model_selection import StratifiedShuffleSplit, GridSearchCV\n",
    "from sklearn.linear_model import LogisticRegression\n",
    "from sklearn.metrics import roc_auc_score, precision_recall_curve, auc, roc_curve\n",
    "\n",
    "from monotonic import start_pipeline\n",
    "\n",
    "from matplotlib import pyplot as plt\n",
    "import seaborn as sns\n",
    "sns.set()"
   ]
  },
  {
   "cell_type": "markdown",
   "metadata": {},
   "source": [
    "## 1. Preprocessing"
   ]
  },
  {
   "cell_type": "code",
   "execution_count": 2,
   "metadata": {},
   "outputs": [],
   "source": [
    "data = pd.read_excel('data/bank.xlsx')"
   ]
  },
  {
   "cell_type": "code",
   "execution_count": 3,
   "metadata": {},
   "outputs": [
    {
     "name": "stdout",
     "output_type": "stream",
     "text": [
      "Replace on WOE optimal = 0.029 seconds\n",
      "Creating full stats = 2.093 seconds\n",
      "Cutting of by IV = 0.001 seconds\n",
      "Delete correlations = 0.977 seconds\n",
      "Wall time: 3.7 s\n"
     ]
    }
   ],
   "source": [
    "%%time\n",
    "data = pd.read_excel('data/bank_null.xlsx')\n",
    "df_woe_uncorr, corr_matrix, to_drop, iv_values = start_pipeline(data)"
   ]
  },
  {
   "cell_type": "code",
   "execution_count": 4,
   "metadata": {},
   "outputs": [
    {
     "data": {
      "text/html": [
       "<div>\n",
       "<style scoped>\n",
       "    .dataframe tbody tr th:only-of-type {\n",
       "        vertical-align: middle;\n",
       "    }\n",
       "\n",
       "    .dataframe tbody tr th {\n",
       "        vertical-align: top;\n",
       "    }\n",
       "\n",
       "    .dataframe thead th {\n",
       "        text-align: right;\n",
       "    }\n",
       "</style>\n",
       "<table border=\"1\" class=\"dataframe\">\n",
       "  <thead>\n",
       "    <tr style=\"text-align: right;\">\n",
       "      <th></th>\n",
       "      <th>WOE_age</th>\n",
       "      <th>WOE_balance</th>\n",
       "      <th>WOE_campaign</th>\n",
       "      <th>WOE_contact</th>\n",
       "      <th>WOE_day</th>\n",
       "      <th>WOE_default</th>\n",
       "      <th>WOE_duration</th>\n",
       "      <th>WOE_education</th>\n",
       "      <th>WOE_housing</th>\n",
       "      <th>WOE_job</th>\n",
       "      <th>WOE_loan</th>\n",
       "      <th>WOE_marital</th>\n",
       "      <th>WOE_month</th>\n",
       "      <th>WOE_poutcome</th>\n",
       "      <th>WOE_previous</th>\n",
       "      <th>target</th>\n",
       "    </tr>\n",
       "  </thead>\n",
       "  <tbody>\n",
       "    <tr>\n",
       "      <td>0</td>\n",
       "      <td>-5.525453</td>\n",
       "      <td>-5.525453</td>\n",
       "      <td>-5.525453</td>\n",
       "      <td>-5.525453</td>\n",
       "      <td>-5.525453</td>\n",
       "      <td>-5.525453</td>\n",
       "      <td>-5.525453</td>\n",
       "      <td>-5.525453</td>\n",
       "      <td>-5.525453</td>\n",
       "      <td>-5.525453</td>\n",
       "      <td>-5.525453</td>\n",
       "      <td>-5.525453</td>\n",
       "      <td>-5.525453</td>\n",
       "      <td>-5.525453</td>\n",
       "      <td>-5.525453</td>\n",
       "      <td>0</td>\n",
       "    </tr>\n",
       "    <tr>\n",
       "      <td>1</td>\n",
       "      <td>-0.081105</td>\n",
       "      <td>0.240328</td>\n",
       "      <td>0.000250</td>\n",
       "      <td>0.253374</td>\n",
       "      <td>0.039765</td>\n",
       "      <td>-0.000279</td>\n",
       "      <td>0.152049</td>\n",
       "      <td>-0.091389</td>\n",
       "      <td>-0.325551</td>\n",
       "      <td>-0.261647</td>\n",
       "      <td>-0.674385</td>\n",
       "      <td>-0.169300</td>\n",
       "      <td>-0.603057</td>\n",
       "      <td>0.124649</td>\n",
       "      <td>0.944706</td>\n",
       "      <td>0</td>\n",
       "    </tr>\n",
       "    <tr>\n",
       "      <td>2</td>\n",
       "      <td>-0.081105</td>\n",
       "      <td>0.240328</td>\n",
       "      <td>0.000250</td>\n",
       "      <td>0.253374</td>\n",
       "      <td>0.039765</td>\n",
       "      <td>-0.000279</td>\n",
       "      <td>-0.934434</td>\n",
       "      <td>0.247403</td>\n",
       "      <td>-0.325551</td>\n",
       "      <td>0.182478</td>\n",
       "      <td>0.090896</td>\n",
       "      <td>0.219950</td>\n",
       "      <td>0.595584</td>\n",
       "      <td>0.124649</td>\n",
       "      <td>-0.189939</td>\n",
       "      <td>0</td>\n",
       "    </tr>\n",
       "    <tr>\n",
       "      <td>3</td>\n",
       "      <td>-0.081105</td>\n",
       "      <td>0.240328</td>\n",
       "      <td>0.000250</td>\n",
       "      <td>-0.992066</td>\n",
       "      <td>-0.104812</td>\n",
       "      <td>-0.000279</td>\n",
       "      <td>-0.934434</td>\n",
       "      <td>0.247403</td>\n",
       "      <td>-0.325551</td>\n",
       "      <td>0.182478</td>\n",
       "      <td>-0.674385</td>\n",
       "      <td>-0.169300</td>\n",
       "      <td>-0.119784</td>\n",
       "      <td>-0.263395</td>\n",
       "      <td>-0.189939</td>\n",
       "      <td>0</td>\n",
       "    </tr>\n",
       "    <tr>\n",
       "      <td>4</td>\n",
       "      <td>-0.081105</td>\n",
       "      <td>-0.294329</td>\n",
       "      <td>0.000250</td>\n",
       "      <td>-0.992066</td>\n",
       "      <td>-0.104812</td>\n",
       "      <td>-0.000279</td>\n",
       "      <td>0.152049</td>\n",
       "      <td>-0.091389</td>\n",
       "      <td>-0.325551</td>\n",
       "      <td>-0.504098</td>\n",
       "      <td>0.090896</td>\n",
       "      <td>-0.169300</td>\n",
       "      <td>-0.603057</td>\n",
       "      <td>-0.263395</td>\n",
       "      <td>-0.189939</td>\n",
       "      <td>0</td>\n",
       "    </tr>\n",
       "    <tr>\n",
       "      <td>...</td>\n",
       "      <td>...</td>\n",
       "      <td>...</td>\n",
       "      <td>...</td>\n",
       "      <td>...</td>\n",
       "      <td>...</td>\n",
       "      <td>...</td>\n",
       "      <td>...</td>\n",
       "      <td>...</td>\n",
       "      <td>...</td>\n",
       "      <td>...</td>\n",
       "      <td>...</td>\n",
       "      <td>...</td>\n",
       "      <td>...</td>\n",
       "      <td>...</td>\n",
       "      <td>...</td>\n",
       "      <td>...</td>\n",
       "    </tr>\n",
       "    <tr>\n",
       "      <td>4516</td>\n",
       "      <td>-0.081105</td>\n",
       "      <td>-0.294329</td>\n",
       "      <td>0.000250</td>\n",
       "      <td>0.253374</td>\n",
       "      <td>0.039765</td>\n",
       "      <td>-0.000279</td>\n",
       "      <td>0.152049</td>\n",
       "      <td>-0.091389</td>\n",
       "      <td>-0.325551</td>\n",
       "      <td>-0.261647</td>\n",
       "      <td>0.090896</td>\n",
       "      <td>-0.169300</td>\n",
       "      <td>-0.320075</td>\n",
       "      <td>-0.263395</td>\n",
       "      <td>-0.189939</td>\n",
       "      <td>0</td>\n",
       "    </tr>\n",
       "    <tr>\n",
       "      <td>4517</td>\n",
       "      <td>-0.081105</td>\n",
       "      <td>-0.294329</td>\n",
       "      <td>0.000250</td>\n",
       "      <td>-0.992066</td>\n",
       "      <td>-0.104812</td>\n",
       "      <td>0.030830</td>\n",
       "      <td>-0.934434</td>\n",
       "      <td>0.247403</td>\n",
       "      <td>-0.325551</td>\n",
       "      <td>-0.059717</td>\n",
       "      <td>-0.674385</td>\n",
       "      <td>-0.169300</td>\n",
       "      <td>-0.603057</td>\n",
       "      <td>-0.263395</td>\n",
       "      <td>-0.189939</td>\n",
       "      <td>0</td>\n",
       "    </tr>\n",
       "    <tr>\n",
       "      <td>4518</td>\n",
       "      <td>-0.081105</td>\n",
       "      <td>-0.294329</td>\n",
       "      <td>0.000250</td>\n",
       "      <td>0.253374</td>\n",
       "      <td>0.039765</td>\n",
       "      <td>-0.000279</td>\n",
       "      <td>-0.934434</td>\n",
       "      <td>-0.091389</td>\n",
       "      <td>0.330836</td>\n",
       "      <td>-0.072278</td>\n",
       "      <td>0.090896</td>\n",
       "      <td>-0.169300</td>\n",
       "      <td>0.090582</td>\n",
       "      <td>-0.263395</td>\n",
       "      <td>-0.189939</td>\n",
       "      <td>0</td>\n",
       "    </tr>\n",
       "    <tr>\n",
       "      <td>4519</td>\n",
       "      <td>-0.081105</td>\n",
       "      <td>0.240328</td>\n",
       "      <td>0.000250</td>\n",
       "      <td>0.253374</td>\n",
       "      <td>-0.104812</td>\n",
       "      <td>-0.000279</td>\n",
       "      <td>-1.807347</td>\n",
       "      <td>-0.091389</td>\n",
       "      <td>0.330836</td>\n",
       "      <td>-0.504098</td>\n",
       "      <td>0.090896</td>\n",
       "      <td>-0.169300</td>\n",
       "      <td>0.460942</td>\n",
       "      <td>0.606970</td>\n",
       "      <td>0.944706</td>\n",
       "      <td>0</td>\n",
       "    </tr>\n",
       "    <tr>\n",
       "      <td>4520</td>\n",
       "      <td>-0.081105</td>\n",
       "      <td>0.240328</td>\n",
       "      <td>0.000250</td>\n",
       "      <td>0.253374</td>\n",
       "      <td>-0.104812</td>\n",
       "      <td>-0.000279</td>\n",
       "      <td>0.152049</td>\n",
       "      <td>0.247403</td>\n",
       "      <td>-0.325551</td>\n",
       "      <td>-0.284080</td>\n",
       "      <td>-0.674385</td>\n",
       "      <td>0.219950</td>\n",
       "      <td>0.595584</td>\n",
       "      <td>0.606970</td>\n",
       "      <td>0.944706</td>\n",
       "      <td>0</td>\n",
       "    </tr>\n",
       "  </tbody>\n",
       "</table>\n",
       "<p>4521 rows × 16 columns</p>\n",
       "</div>"
      ],
      "text/plain": [
       "       WOE_age  WOE_balance  WOE_campaign  WOE_contact   WOE_day  WOE_default  \\\n",
       "0    -5.525453    -5.525453     -5.525453    -5.525453 -5.525453    -5.525453   \n",
       "1    -0.081105     0.240328      0.000250     0.253374  0.039765    -0.000279   \n",
       "2    -0.081105     0.240328      0.000250     0.253374  0.039765    -0.000279   \n",
       "3    -0.081105     0.240328      0.000250    -0.992066 -0.104812    -0.000279   \n",
       "4    -0.081105    -0.294329      0.000250    -0.992066 -0.104812    -0.000279   \n",
       "...        ...          ...           ...          ...       ...          ...   \n",
       "4516 -0.081105    -0.294329      0.000250     0.253374  0.039765    -0.000279   \n",
       "4517 -0.081105    -0.294329      0.000250    -0.992066 -0.104812     0.030830   \n",
       "4518 -0.081105    -0.294329      0.000250     0.253374  0.039765    -0.000279   \n",
       "4519 -0.081105     0.240328      0.000250     0.253374 -0.104812    -0.000279   \n",
       "4520 -0.081105     0.240328      0.000250     0.253374 -0.104812    -0.000279   \n",
       "\n",
       "      WOE_duration  WOE_education  WOE_housing   WOE_job  WOE_loan  \\\n",
       "0        -5.525453      -5.525453    -5.525453 -5.525453 -5.525453   \n",
       "1         0.152049      -0.091389    -0.325551 -0.261647 -0.674385   \n",
       "2        -0.934434       0.247403    -0.325551  0.182478  0.090896   \n",
       "3        -0.934434       0.247403    -0.325551  0.182478 -0.674385   \n",
       "4         0.152049      -0.091389    -0.325551 -0.504098  0.090896   \n",
       "...            ...            ...          ...       ...       ...   \n",
       "4516      0.152049      -0.091389    -0.325551 -0.261647  0.090896   \n",
       "4517     -0.934434       0.247403    -0.325551 -0.059717 -0.674385   \n",
       "4518     -0.934434      -0.091389     0.330836 -0.072278  0.090896   \n",
       "4519     -1.807347      -0.091389     0.330836 -0.504098  0.090896   \n",
       "4520      0.152049       0.247403    -0.325551 -0.284080 -0.674385   \n",
       "\n",
       "      WOE_marital  WOE_month  WOE_poutcome  WOE_previous  target  \n",
       "0       -5.525453  -5.525453     -5.525453     -5.525453       0  \n",
       "1       -0.169300  -0.603057      0.124649      0.944706       0  \n",
       "2        0.219950   0.595584      0.124649     -0.189939       0  \n",
       "3       -0.169300  -0.119784     -0.263395     -0.189939       0  \n",
       "4       -0.169300  -0.603057     -0.263395     -0.189939       0  \n",
       "...           ...        ...           ...           ...     ...  \n",
       "4516    -0.169300  -0.320075     -0.263395     -0.189939       0  \n",
       "4517    -0.169300  -0.603057     -0.263395     -0.189939       0  \n",
       "4518    -0.169300   0.090582     -0.263395     -0.189939       0  \n",
       "4519    -0.169300   0.460942      0.606970      0.944706       0  \n",
       "4520     0.219950   0.595584      0.606970      0.944706       0  \n",
       "\n",
       "[4521 rows x 16 columns]"
      ]
     },
     "execution_count": 4,
     "metadata": {},
     "output_type": "execute_result"
    }
   ],
   "source": [
    "df_woe_uncorr"
   ]
  },
  {
   "cell_type": "markdown",
   "metadata": {},
   "source": [
    "## 2. In-Sample and Out-of-Sample split"
   ]
  },
  {
   "cell_type": "code",
   "execution_count": 5,
   "metadata": {},
   "outputs": [],
   "source": [
    "sss = StratifiedShuffleSplit(n_splits=1, test_size=0.1, random_state=0)"
   ]
  },
  {
   "cell_type": "code",
   "execution_count": 6,
   "metadata": {},
   "outputs": [],
   "source": [
    "X = df_woe_uncorr.drop(columns='target').values\n",
    "y = df_woe_uncorr['target'].values"
   ]
  },
  {
   "cell_type": "code",
   "execution_count": 7,
   "metadata": {},
   "outputs": [
    {
     "name": "stdout",
     "output_type": "stream",
     "text": [
      "Share of \"good\" in Out-of-Sample = 0.11479028697571744\n",
      "Share of \"good\" in In-Sample     = 0.11529006882989185\n"
     ]
    }
   ],
   "source": [
    "for train_index, test_index in sss.split(X, y):\n",
    "    X_in, X_out = X[train_index], X[test_index]\n",
    "    y_in, y_out = y[train_index], y[test_index]\n",
    "    \n",
    "    print('Share of \"good\" in Out-of-Sample = {}'.format(np.sum(y_out)/len(y_out)))\n",
    "    print('Share of \"good\" in In-Sample     = {}'.format(np.sum(y_in)/len(y_in)))"
   ]
  },
  {
   "cell_type": "markdown",
   "metadata": {},
   "source": [
    "## 3. Train-Valid Split"
   ]
  },
  {
   "cell_type": "code",
   "execution_count": 8,
   "metadata": {},
   "outputs": [
    {
     "name": "stdout",
     "output_type": "stream",
     "text": [
      "Share of \"good\" in Out-of-Sample = 0.14004914004914004\n",
      "Share of \"good\" in In-Sample     = 0.14004914004914004\n"
     ]
    }
   ],
   "source": [
    "sss = StratifiedShuffleSplit(n_splits=1, test_size=0.3, random_state=0)\n",
    "for train_index, test_index in sss.split(X_in, y_in):\n",
    "    X_train, X_test = X[train_index], X[test_index]\n",
    "    y_train, y_test = y[train_index], y[test_index]\n",
    "    \n",
    "    print('Share of \"good\" in Out-of-Sample = {}'.format(np.sum(y_test)/len(y_test)))\n",
    "    print('Share of \"good\" in In-Sample     = {}'.format(np.sum(y_test)/len(y_test)))"
   ]
  },
  {
   "cell_type": "markdown",
   "metadata": {},
   "source": [
    "## 4. Train Model"
   ]
  },
  {
   "cell_type": "code",
   "execution_count": 9,
   "metadata": {},
   "outputs": [],
   "source": [
    "def plot_validation_curves(param_values, grid_cv_results_):\n",
    "    train_mu, train_std = grid_cv_results_['mean_train_score'], grid_cv_results_['std_train_score']\n",
    "    valid_mu, valid_std = grid_cv_results_['mean_test_score'], grid_cv_results_['std_test_score']\n",
    "    \n",
    "    plt.figure(figsize=(9,6))\n",
    "    train_line = plt.plot(param_values, train_mu, '-', label='train', color='green')\n",
    "    valid_line = plt.plot(param_values, valid_mu, '-', label='test', color='red')\n",
    "    \n",
    "    plt.fill_between(param_values, train_mu - train_std, train_mu + train_std, edgecolor='none',\n",
    "                     facecolor=train_line[0].get_color(), alpha=0.2)\n",
    "    plt.fill_between(param_values, valid_mu - valid_std, valid_mu + valid_std, edgecolor='none',\n",
    "                     facecolor=valid_line[0].get_color(), alpha=0.2)\n",
    "    \n",
    "    plt.title('Validation Curves')\n",
    "    plt.xlabel('C')\n",
    "    plt.ylabel('ROC AUC score')\n",
    "    plt.ylim(0.8, 1)\n",
    "    plt.legend()\n",
    "    plt.show()"
   ]
  },
  {
   "cell_type": "markdown",
   "metadata": {},
   "source": [
    "**Rude search**"
   ]
  },
  {
   "cell_type": "code",
   "execution_count": 10,
   "metadata": {},
   "outputs": [
    {
     "data": {
      "image/png": "[encoded data removed]",
      "text/plain": [
       "<Figure size 648x432 with 1 Axes>"
      ]
     },
     "metadata": {},
     "output_type": "display_data"
    }
   ],
   "source": [
    "log_reg = LogisticRegression(n_jobs=-1, solver='lbfgs')\n",
    "param_grid_log = {'C': np.logspace(1e-5, 1)}\n",
    "\n",
    "grid_search = GridSearchCV(log_reg, param_grid=param_grid_log, scoring='roc_auc',\n",
    "                           n_jobs=-1, cv=5, return_train_score=True)\n",
    "\n",
    "grid_search.fit(X_in, y_in)\n",
    "\n",
    "plot_validation_curves(param_grid_log['C'], grid_search.cv_results_)"
   ]
  },
  {
   "cell_type": "markdown",
   "metadata": {},
   "source": [
    "#### Hypo-parameter *C* is not sensitive to change"
   ]
  },
  {
   "cell_type": "markdown",
   "metadata": {},
   "source": [
    "## 5. Model Evaluation"
   ]
  },
  {
   "cell_type": "code",
   "execution_count": 11,
   "metadata": {},
   "outputs": [],
   "source": [
    "log_reg = LogisticRegression(C=1.0, n_jobs=-1, solver='lbfgs')\n",
    "log_reg.fit(X_in, y_in)\n",
    "fpr = dict()\n",
    "tpr = dict()\n",
    "roc_auc = dict()\n",
    "y_score = log_reg.predict_proba(X_out)[:,1]\n",
    "fpr, tpr, thresholds = roc_curve(y_out, y_score)\n",
    "roc_auc = auc(fpr, tpr)"
   ]
  },
  {
   "cell_type": "markdown",
   "metadata": {},
   "source": [
    "### ROC-curve"
   ]
  },
  {
   "cell_type": "code",
   "execution_count": 12,
   "metadata": {},
   "outputs": [
    {
     "data": {
      "image/png": "[encoded data removed]",
      "text/plain": [
       "<Figure size 432x288 with 1 Axes>"
      ]
     },
     "metadata": {},
     "output_type": "display_data"
    }
   ],
   "source": [
    "plt.plot(fpr, tpr, color='darkorange',\n",
    "         lw=2, label='ROC curve (area = %0.2f)' % roc_auc)\n",
    "\n",
    "plt.plot([0, 1], [0, 1], color='navy', lw=2, linestyle='--')\n",
    "plt.xlim([0.0, 1.0])\n",
    "plt.ylim([0.0, 1.05])\n",
    "plt.xlabel('False Positive Rate')\n",
    "plt.ylabel('True Positive Rate')\n",
    "plt.title('ROC curve')\n",
    "plt.legend(loc=\"lower right\")\n",
    "plt.show()"
   ]
  },
  {
   "cell_type": "markdown",
   "metadata": {},
   "source": [
    "### PR-curve"
   ]
  },
  {
   "cell_type": "code",
   "execution_count": 13,
   "metadata": {},
   "outputs": [
    {
     "data": {
      "image/png": "[encoded data removed]",
      "text/plain": [
       "<Figure size 432x288 with 1 Axes>"
      ]
     },
     "metadata": {},
     "output_type": "display_data"
    }
   ],
   "source": [
    "pr, rec, _ = precision_recall_curve(y_out, y_score)\n",
    "\n",
    "plt.plot(pr, rec, color='darkorange',\n",
    "         lw=2, label='PR curve (area = %0.2f)' % auc(rec, pr))\n",
    "\n",
    "plt.xlim([0.0, 1.0])\n",
    "plt.ylim([0.0, 1.05])\n",
    "plt.xlabel('Recall')\n",
    "plt.ylabel('Presicion')\n",
    "plt.title('PR curve')\n",
    "plt.legend(loc=\"upper right\")\n",
    "plt.show()"
   ]
  },
  {
   "cell_type": "markdown",
   "metadata": {},
   "source": [
    "### Gini"
   ]
  },
  {
   "cell_type": "code",
   "execution_count": 14,
   "metadata": {},
   "outputs": [
    {
     "name": "stdout",
     "output_type": "stream",
     "text": [
      "GINI = 0.7156627661615191\n"
     ]
    }
   ],
   "source": [
    "print('GINI = {}'.format(2*roc_auc - 1))"
   ]
  },
  {
   "cell_type": "code",
   "execution_count": null,
   "metadata": {},
   "outputs": [],
   "source": []
  }
 ],
 "metadata": {
  "kernelspec": {
   "display_name": "Python 3",
   "language": "python",
   "name": "python3"
  },
  "language_info": {
   "codemirror_mode": {
    "name": "ipython",
    "version": 3
   },
   "file_extension": ".py",
   "mimetype": "text/x-python",
   "name": "python",
   "nbconvert_exporter": "python",
   "pygments_lexer": "ipython3",
   "version": "3.7.4"
  }
 },
 "nbformat": 4,
 "nbformat_minor": 4
}
